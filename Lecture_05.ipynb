{
  "nbformat": 4,
  "nbformat_minor": 0,
  "metadata": {
    "colab": {
      "name": "Lecture 05",
      "provenance": [],
      "include_colab_link": true
    },
    "kernelspec": {
      "name": "python3",
      "display_name": "Python 3"
    }
  },
  "cells": [
    {
      "cell_type": "markdown",
      "metadata": {
        "id": "view-in-github",
        "colab_type": "text"
      },
      "source": [
        "<a href=\"https://colab.research.google.com/github/PasinduChanusha/Sootin_25/blob/main/Lecture_05.ipynb\" target=\"_parent\"><img src=\"https://colab.research.google.com/assets/colab-badge.svg\" alt=\"Open In Colab\"/></a>"
      ]
    },
    {
      "cell_type": "code",
      "metadata": {
        "id": "pJBPBl8B-IGv"
      },
      "source": [
        "import re"
      ],
      "execution_count": null,
      "outputs": []
    },
    {
      "cell_type": "code",
      "metadata": {
        "id": "bwxnShCW-mjf"
      },
      "source": [
        "def test_re(input_string,regular_expression):\n",
        "  pattern = re.compile(regular_expression)\n",
        "  return bool(pattern.match(input_string))\n",
        "\n",
        "  "
      ],
      "execution_count": null,
      "outputs": []
    },
    {
      "cell_type": "code",
      "metadata": {
        "id": "_7_OGL0Z_Ddu",
        "colab": {
          "base_uri": "https://localhost:8080/"
        },
        "outputId": "6f765f1f-fbfe-4313-fec7-8d7e80b650e2"
      },
      "source": [
        "print(test_re(\"mat\",\"^mat$\"))"
      ],
      "execution_count": null,
      "outputs": [
        {
          "output_type": "stream",
          "text": [
            "True\n"
          ],
          "name": "stdout"
        }
      ]
    },
    {
      "cell_type": "code",
      "metadata": {
        "id": "ZQ8GlW1TANp2",
        "colab": {
          "base_uri": "https://localhost:8080/"
        },
        "outputId": "ffb8690b-e6d7-4a77-d945-4638b3ca4208"
      },
      "source": [
        "print(test_re(\"m t\",\"^m.t$\"))"
      ],
      "execution_count": null,
      "outputs": [
        {
          "output_type": "stream",
          "text": [
            "True\n"
          ],
          "name": "stdout"
        }
      ]
    },
    {
      "cell_type": "code",
      "metadata": {
        "id": "Gty6DeqiBCPe",
        "colab": {
          "base_uri": "https://localhost:8080/"
        },
        "outputId": "eafd4819-1f62-4993-fc29-7f5d9a2a786b"
      },
      "source": [
        "print(test_re(\"mtt\",\"^m[ytz]t$\"))"
      ],
      "execution_count": null,
      "outputs": [
        {
          "output_type": "stream",
          "text": [
            "True\n"
          ],
          "name": "stdout"
        }
      ]
    },
    {
      "cell_type": "code",
      "metadata": {
        "id": "DVlztLWxBoGX",
        "colab": {
          "base_uri": "https://localhost:8080/"
        },
        "outputId": "75ca5eec-b9aa-4acf-aab9-45f35e2dd741"
      },
      "source": [
        "print(test_re(\"mgoodt\",\"^m(i|u|good)t$\"))"
      ],
      "execution_count": null,
      "outputs": [
        {
          "output_type": "stream",
          "text": [
            "True\n"
          ],
          "name": "stdout"
        }
      ]
    },
    {
      "cell_type": "code",
      "metadata": {
        "id": "3hpAkXP4CgAR",
        "colab": {
          "base_uri": "https://localhost:8080/"
        },
        "outputId": "0b4bf573-5b56-41e3-b878-f566ace906aa"
      },
      "source": [
        "print(test_re(\"mbbbt\",\"^mb{,2}t$\"))"
      ],
      "execution_count": null,
      "outputs": [
        {
          "output_type": "stream",
          "text": [
            "False\n"
          ],
          "name": "stdout"
        }
      ]
    },
    {
      "cell_type": "code",
      "metadata": {
        "id": "p-EYQfngDOSE",
        "colab": {
          "base_uri": "https://localhost:8080/"
        },
        "outputId": "d19efff5-326f-41cc-9bba-89fa39c5ea93"
      },
      "source": [
        "print(test_re(\"ghjghjchgjg\",\"^[^abc]*$\"))"
      ],
      "execution_count": null,
      "outputs": [
        {
          "output_type": "stream",
          "text": [
            "False\n"
          ],
          "name": "stdout"
        }
      ]
    },
    {
      "cell_type": "code",
      "metadata": {
        "id": "ToE8_XiZEISU",
        "colab": {
          "base_uri": "https://localhost:8080/"
        },
        "outputId": "6d47005e-e953-4d21-e4b9-072f76236272"
      },
      "source": [
        "print(test_re(\"4546546$\",\"^[0-9]*\\$$\"))"
      ],
      "execution_count": null,
      "outputs": [
        {
          "output_type": "stream",
          "text": [
            "True\n"
          ],
          "name": "stdout"
        }
      ]
    },
    {
      "cell_type": "code",
      "metadata": {
        "id": "oSP8b9vVGK-r",
        "colab": {
          "base_uri": "https://localhost:8080/"
        },
        "outputId": "28142dd9-0a01-426a-857e-8e490c305074"
      },
      "source": [
        "print(test_re(\"aabb\",\"^(a|b)*(a|bb)$\"))"
      ],
      "execution_count": null,
      "outputs": [
        {
          "output_type": "stream",
          "text": [
            "True\n"
          ],
          "name": "stdout"
        }
      ]
    },
    {
      "cell_type": "code",
      "metadata": {
        "id": "MHEeJTNcIK13",
        "colab": {
          "base_uri": "https://localhost:8080/"
        },
        "outputId": "2686e87c-7d96-4ec9-a5aa-b800f5700e80"
      },
      "source": [
        "print(test_re(\"11011\",\"^(1|0)*(00)(1|0)*$\")) \n",
        "\n",
        "# r=(0|1)*00(0|1)*\n",
        "\n",
        "# ^.*(00).*$\n",
        "\n",
        "\n"
      ],
      "execution_count": null,
      "outputs": [
        {
          "output_type": "stream",
          "text": [
            "False\n"
          ],
          "name": "stdout"
        }
      ]
    },
    {
      "cell_type": "code",
      "metadata": {
        "id": "qMKm5iC7GTIf"
      },
      "source": [
        ""
      ],
      "execution_count": null,
      "outputs": []
    }
  ]
}